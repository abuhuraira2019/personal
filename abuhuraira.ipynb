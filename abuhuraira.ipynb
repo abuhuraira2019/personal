{
 "cells": [
  {
   "cell_type": "markdown",
   "metadata": {},
   "source": [
    "# Assignment NO 1\n"
   ]
  },
  {
   "cell_type": "markdown",
   "metadata": {},
   "source": [
    "# Objective\n",
    "Utilizing data-driven insights and advanced analytics to solve complex problems, driving informed decision-making, and contributing to organizational success as a data scientist.\n",
    "\n",
    "## Personal Details\n",
    "- **Name**: Abu Huraira\n",
    "- **Father’s Name**: Muhammad Rasheed\n",
    "- **Date of Birth**: 01 OCT 2001\n",
    "- **C.N.I.C No.**: 38101-2650719-3\n",
    "- **Nationality**: Pakistan\n",
    "- **Religion**: Islam\n",
    "- **Marital Status**: Single\n",
    "- **E-mail Address**: huraira2019@gmail.com\n",
    "- **Permanent Address**: \n",
    "  House No 105, Street Ghourianwali,\n",
    "  Tehsil Bhakkar, District Bhakkar, Punjab,\n",
    "  Pakistan.\n",
    "\n",
    "## Qualification\n",
    "- **09/2019–07/2022**: B.S Information Technology\n",
    "  - **University**: University Of Sargodha, (Pakistan)\n",
    "  - **Thesis title**: Deep learning-Based Ophthalmic Disease Detection\n",
    "  - **CGPA**: 3.69/4.00\n",
    "  - **Percentage**: 92.40%\n",
    "  - **GRADE**: A\n",
    "  - [University Website](https://uos.edu.pk)\n",
    "\n",
    "- **04/2017–04/2019**: Higher Secondary School Certificate, (F.Sc Pre-Engineering)\n",
    "  - **Percentage**: 64.63%\n",
    "  - **GRADE**: B\n",
    "\n",
    "- **09/2015–03/2017**: Secondary School Certificate, (Matriculation) in Science\n",
    "  - **Percentage**: 83.27%\n",
    "  - **GRADE**: A+\n",
    "\n",
    "## Research Project\n",
    "- **Deep learning-Based Ophthalmic Disease Detection. A Systematic Literature Review**\n",
    "\n",
    "## Experience\n",
    "- One year experience as a teacher at Star English Medium School Dagi, Swabi.\n"
   ]
  }
 ],
 "metadata": {
  "language_info": {
   "name": "python"
  }
 },
 "nbformat": 4,
 "nbformat_minor": 2
}
